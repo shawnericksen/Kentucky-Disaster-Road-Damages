{
 "cells": [
  {
   "cell_type": "markdown",
   "id": "a7f419f6",
   "metadata": {},
   "source": [
    "# Imports"
   ]
  },
  {
   "cell_type": "code",
   "execution_count": 1,
   "id": "983cab75-d06f-4931-8fb9-412a237993e7",
   "metadata": {
    "scrolled": true
   },
   "outputs": [],
   "source": [
    "import pandas as pd\n",
    "import numpy as np\n",
    "import geopandas as gpd\n",
    "from shapely.geometry import Point\n",
    "from datetime import date"
   ]
  },
  {
   "cell_type": "markdown",
   "id": "1b4af8e1",
   "metadata": {},
   "source": [
    "# Load Precipitation Data"
   ]
  },
  {
   "cell_type": "code",
   "execution_count": 2,
   "id": "a84ef7f8-3837-49f0-bedc-688b094628f1",
   "metadata": {},
   "outputs": [
    {
     "name": "stdout",
     "output_type": "stream",
     "text": [
      "<class 'pandas.core.frame.DataFrame'>\n",
      "RangeIndex: 1955383 entries, 0 to 1955382\n",
      "Data columns (total 5 columns):\n",
      " #   Column     Dtype   \n",
      "---  ------     -----   \n",
      " 0   STATION    category\n",
      " 1   LATITUDE   float32 \n",
      " 2   LONGITUDE  float32 \n",
      " 3   DATE       object  \n",
      " 4   PRCP       int32   \n",
      "dtypes: category(1), float32(2), int32(1), object(1)\n",
      "memory usage: 41.1+ MB\n"
     ]
    },
    {
     "data": {
      "text/plain": [
       "None"
      ]
     },
     "metadata": {},
     "output_type": "display_data"
    }
   ],
   "source": [
    "filepath = 'data/ky_prec_with_gps.csv'\n",
    "\n",
    "cols = ['STATION', 'DATE', 'PRCP', 'LATITUDE', 'LONGITUDE']\n",
    "\n",
    "dtypes = {\n",
    "    'STATION': 'category',\n",
    "    'DATE': 'string',\n",
    "    'PRCP': 'float32',\n",
    "    'LATITUDE': 'float32',\n",
    "    'LONGITUDE': 'float32',\n",
    "}\n",
    "\n",
    "weather_df = pd.read_csv(filepath, dtype=dtypes, usecols=cols)\n",
    "\n",
    "weather_df['DATE'] = pd.to_datetime(pd.Series(weather_df['DATE']), format='%Y-%m-%d', errors='coerce').dt.date\n",
    "weather_df['PRCP'] = weather_df['PRCP'].fillna(0)\n",
    "weather_df['PRCP'] = weather_df.PRCP.apply(lambda x: x * 100).apply(np.int32)\n",
    "\n",
    "display(weather_df.info())"
   ]
  },
  {
   "cell_type": "code",
   "execution_count": 3,
   "id": "b1ffd8aa-0d33-4236-8c96-b651842d7609",
   "metadata": {},
   "outputs": [
    {
     "data": {
      "text/html": [
       "<div>\n",
       "<style scoped>\n",
       "    .dataframe tbody tr th:only-of-type {\n",
       "        vertical-align: middle;\n",
       "    }\n",
       "\n",
       "    .dataframe tbody tr th {\n",
       "        vertical-align: top;\n",
       "    }\n",
       "\n",
       "    .dataframe thead th {\n",
       "        text-align: right;\n",
       "    }\n",
       "</style>\n",
       "<table border=\"1\" class=\"dataframe\">\n",
       "  <thead>\n",
       "    <tr style=\"text-align: right;\">\n",
       "      <th></th>\n",
       "      <th>STATION</th>\n",
       "      <th>LATITUDE</th>\n",
       "      <th>LONGITUDE</th>\n",
       "      <th>DATE</th>\n",
       "      <th>PRCP</th>\n",
       "    </tr>\n",
       "  </thead>\n",
       "  <tbody>\n",
       "    <tr>\n",
       "      <th>0</th>\n",
       "      <td>US1KYMS0002</td>\n",
       "      <td>38.532425</td>\n",
       "      <td>-83.754707</td>\n",
       "      <td>2009-04-17</td>\n",
       "      <td>0</td>\n",
       "    </tr>\n",
       "  </tbody>\n",
       "</table>\n",
       "</div>"
      ],
      "text/plain": [
       "       STATION   LATITUDE  LONGITUDE        DATE  PRCP\n",
       "0  US1KYMS0002  38.532425 -83.754707  2009-04-17     0"
      ]
     },
     "metadata": {},
     "output_type": "display_data"
    }
   ],
   "source": [
    "display(weather_df.head(1))"
   ]
  },
  {
   "cell_type": "markdown",
   "id": "641fdb75",
   "metadata": {},
   "source": [
    "# Load FEMA Project Data"
   ]
  },
  {
   "cell_type": "code",
   "execution_count": 4,
   "id": "9d8faeff-5b5d-4833-9c5a-5902a2e47f4a",
   "metadata": {},
   "outputs": [
    {
     "name": "stdout",
     "output_type": "stream",
     "text": [
      "<class 'pandas.core.frame.DataFrame'>\n",
      "Index: 15139 entries, 59 to 807119\n",
      "Data columns (total 4 columns):\n",
      " #   Column          Non-Null Count  Dtype   \n",
      "---  ------          --------------  -----   \n",
      " 0   disasterNumber  15139 non-null  category\n",
      " 1   projectSize     15139 non-null  category\n",
      " 2   county          15137 non-null  category\n",
      " 3   projectAmount   15139 non-null  float32 \n",
      "dtypes: category(3), float32(1)\n",
      "memory usage: 416.1 KB\n"
     ]
    },
    {
     "data": {
      "text/plain": [
       "None"
      ]
     },
     "metadata": {},
     "output_type": "display_data"
    }
   ],
   "source": [
    "filepath2 = 'data/PublicAssistanceFundedProjectsDetails.csv'\n",
    "\n",
    "cols=[\n",
    "    'disasterNumber',\n",
    "    'stateCode',\n",
    "    'county',\n",
    "    'projectSize',\n",
    "    'dcc',             # Determines if damage is Roads & Bridges\n",
    "    'projectAmount'\n",
    "]\n",
    "\n",
    "\n",
    "dtypes={\n",
    "    'disasterNumber': 'category',\n",
    "    'county': 'category',\n",
    "    'projectSize': 'category',\n",
    "    'dcc': 'category',\n",
    "    'stateCode': 'category',\n",
    "    'projectAmount': 'float32'\n",
    "}\n",
    "\n",
    "df2 = pd.read_csv(filepath2, usecols=cols, dtype=dtypes)\n",
    "\n",
    "filtered_df = df2.loc[(df2.stateCode == 'KY') & (df2.dcc == 'C')]\n",
    "\n",
    "final_data = filtered_df.drop(labels=['stateCode', 'dcc',], axis=1)\n",
    "\n",
    "display(final_data.info())"
   ]
  },
  {
   "cell_type": "markdown",
   "id": "87b088e4",
   "metadata": {},
   "source": [
    "# Geopandas"
   ]
  },
  {
   "cell_type": "code",
   "execution_count": 5,
   "id": "f3d91006",
   "metadata": {},
   "outputs": [],
   "source": [
    "county_shp_filename = 'zip:data/cb_2018_us_county_500k.zip'\n",
    "gdf_counties = gpd.read_file(county_shp_filename)"
   ]
  },
  {
   "cell_type": "code",
   "execution_count": 6,
   "id": "de90c4c5-f0bc-44e1-a841-4f180cbc9ff6",
   "metadata": {
    "scrolled": true
   },
   "outputs": [],
   "source": [
    "stations_list = 'data/ghcnd-stations.csv'\n",
    "\n",
    "cols=[\n",
    "    'STATION',\n",
    "    'LATITUDE',\n",
    "    'LONGITUDE',\n",
    "]\n",
    "\n",
    "dtypes = {\n",
    "    'STATION': 'category',\n",
    "    'LATITUDE': 'float32',\n",
    "    'LONGITUDE': 'float32',\n",
    "}\n",
    "\n",
    "stations_df = pd.read_csv(stations_list, dtype=dtypes, usecols=cols)\n",
    "# display(stations_df.head(5))"
   ]
  },
  {
   "cell_type": "code",
   "execution_count": 7,
   "id": "cc549c7d-4e15-42a9-888e-81b3d657d2f7",
   "metadata": {
    "scrolled": true
   },
   "outputs": [
    {
     "data": {
      "text/html": [
       "<div>\n",
       "<style scoped>\n",
       "    .dataframe tbody tr th:only-of-type {\n",
       "        vertical-align: middle;\n",
       "    }\n",
       "\n",
       "    .dataframe tbody tr th {\n",
       "        vertical-align: top;\n",
       "    }\n",
       "\n",
       "    .dataframe thead th {\n",
       "        text-align: right;\n",
       "    }\n",
       "</style>\n",
       "<table border=\"1\" class=\"dataframe\">\n",
       "  <thead>\n",
       "    <tr style=\"text-align: right;\">\n",
       "      <th></th>\n",
       "      <th>STATEFP</th>\n",
       "      <th>COUNTYFP</th>\n",
       "      <th>COUNTYNS</th>\n",
       "      <th>AFFGEOID</th>\n",
       "      <th>GEOID</th>\n",
       "      <th>NAME</th>\n",
       "      <th>LSAD</th>\n",
       "      <th>ALAND</th>\n",
       "      <th>AWATER</th>\n",
       "      <th>geometry</th>\n",
       "    </tr>\n",
       "  </thead>\n",
       "  <tbody>\n",
       "    <tr>\n",
       "      <th>3125</th>\n",
       "      <td>21</td>\n",
       "      <td>161</td>\n",
       "      <td>00516924</td>\n",
       "      <td>0500000US21161</td>\n",
       "      <td>21161</td>\n",
       "      <td>Mason</td>\n",
       "      <td>06</td>\n",
       "      <td>621924068</td>\n",
       "      <td>16281864</td>\n",
       "      <td>POLYGON ((-83.9916 38.5937, -83.96257 38.65396...</td>\n",
       "    </tr>\n",
       "  </tbody>\n",
       "</table>\n",
       "</div>"
      ],
      "text/plain": [
       "     STATEFP COUNTYFP  COUNTYNS        AFFGEOID  GEOID   NAME LSAD      ALAND  \\\n",
       "3125      21      161  00516924  0500000US21161  21161  Mason   06  621924068   \n",
       "\n",
       "        AWATER                                           geometry  \n",
       "3125  16281864  POLYGON ((-83.9916 38.5937, -83.96257 38.65396...  "
      ]
     },
     "metadata": {},
     "output_type": "display_data"
    }
   ],
   "source": [
    "gps = (38.532426, -83.754705)\n",
    "point = Point(gps[1], gps[0])\n",
    "\n",
    "county = gdf_counties[gdf_counties.geometry.contains(point)]\n",
    "display(county)"
   ]
  },
  {
   "cell_type": "code",
   "execution_count": 8,
   "id": "9e832084-d42a-4a22-a847-16d1e26c50dc",
   "metadata": {},
   "outputs": [],
   "source": [
    "# def get_gps_from_station(name):\n",
    "#     station = stations_df[stations_df['STATION'] == name]\n",
    "#     return (station['LATITUDE'], station['LONGITUDE'])\n",
    "\n",
    "def get_county_from_gps(lat, long):\n",
    "    point = Point(long, lat)\n",
    "    county = gdf_counties[gdf_counties.geometry.contains(point)]\n",
    "    return str(county['NAME'])\n",
    "\n",
    "# Shorthand for the 2 above functions\n",
    "def get_county_from_station(name):\n",
    "    gps = get_gps_from_station(name)\n",
    "    county = get_county_from_gps(gps[0], gps[1])\n",
    "    return county"
   ]
  },
  {
   "cell_type": "code",
   "execution_count": 9,
   "id": "35908b27-5006-4c9c-85df-9c936d30b4c0",
   "metadata": {
    "scrolled": true
   },
   "outputs": [
    {
     "name": "stdout",
     "output_type": "stream",
     "text": [
      "<class 'pandas.core.frame.DataFrame'>\n",
      "RangeIndex: 1955383 entries, 0 to 1955382\n",
      "Data columns (total 6 columns):\n",
      " #   Column     Dtype   \n",
      "---  ------     -----   \n",
      " 0   STATION    category\n",
      " 1   LATITUDE   float32 \n",
      " 2   LONGITUDE  float32 \n",
      " 3   DATE       object  \n",
      " 4   PRCP       int32   \n",
      " 5   COUNTY     category\n",
      "dtypes: category(2), float32(2), int32(1), object(1)\n",
      "memory usage: 44.8+ MB\n"
     ]
    },
    {
     "data": {
      "text/plain": [
       "None"
      ]
     },
     "metadata": {},
     "output_type": "display_data"
    }
   ],
   "source": [
    "# Parital Test of grabbing county for stations\n",
    "# part_weather_df = weather_df[weather_df['DATE'] >= date(2025,3,1)]\n",
    "# counties = part_weather_df.apply(lambda x: get_county_from_gps(x['LATITUDE'], x['LONGITUDE']), axis=1)\n",
    "# display(counties)\n",
    "\n",
    "# Full\n",
    "# weather_df['COUNTY'] = weather_df.apply(lambda x: get_county_from_gps(x['LATITUDE'], x['LONGITUDE']), axis=1)\n",
    "# display(weather_df.info())\n",
    "\n",
    "# Can probably be improved by doing only getting counties for unique stations then\n",
    "\n",
    "df_unique_stations = weather_df[['STATION', 'LATITUDE', 'LONGITUDE']].drop_duplicates()\n",
    "\n",
    "df_unique_stations['COUNTY'] = df_unique_stations.apply(lambda x: get_county_from_gps(x['LATITUDE'], x['LONGITUDE']), axis=1).astype('category')\n",
    "\n",
    "weather_df_with_county = weather_df.merge(\n",
    "    df_unique_stations[['STATION', 'COUNTY']],\n",
    "    on='STATION',\n",
    "    how='left'\n",
    ")\n",
    "\n",
    "display(weather_df_with_county.info())"
   ]
  }
 ],
 "metadata": {
  "kernelspec": {
   "display_name": "Python 3 (ipykernel)",
   "language": "python",
   "name": "python3"
  },
  "language_info": {
   "codemirror_mode": {
    "name": "ipython",
    "version": 3
   },
   "file_extension": ".py",
   "mimetype": "text/x-python",
   "name": "python",
   "nbconvert_exporter": "python",
   "pygments_lexer": "ipython3",
   "version": "3.13.2"
  }
 },
 "nbformat": 4,
 "nbformat_minor": 5
}
